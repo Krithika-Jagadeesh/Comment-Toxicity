{
 "cells": [
  {
   "cell_type": "markdown",
   "id": "76bcbf4c",
   "metadata": {},
   "source": [
    "### Importing libraries"
   ]
  },
  {
   "cell_type": "code",
   "execution_count": 2,
   "id": "87c00903",
   "metadata": {},
   "outputs": [],
   "source": [
    "import pandas as pd\n",
    "import numpy as np\n",
    "import tensorflow as tf\n",
    "from tensorflow import keras\n",
    "from tensorflow.keras import layers, models\n",
    "import sklearn"
   ]
  },
  {
   "cell_type": "code",
   "execution_count": 3,
   "id": "be7c11b4",
   "metadata": {},
   "outputs": [
    {
     "data": {
      "text/html": [
       "<div>\n",
       "<style scoped>\n",
       "    .dataframe tbody tr th:only-of-type {\n",
       "        vertical-align: middle;\n",
       "    }\n",
       "\n",
       "    .dataframe tbody tr th {\n",
       "        vertical-align: top;\n",
       "    }\n",
       "\n",
       "    .dataframe thead th {\n",
       "        text-align: right;\n",
       "    }\n",
       "</style>\n",
       "<table border=\"1\" class=\"dataframe\">\n",
       "  <thead>\n",
       "    <tr style=\"text-align: right;\">\n",
       "      <th></th>\n",
       "      <th>id</th>\n",
       "      <th>comment_text</th>\n",
       "      <th>toxic</th>\n",
       "      <th>severe_toxic</th>\n",
       "      <th>obscene</th>\n",
       "      <th>threat</th>\n",
       "      <th>insult</th>\n",
       "      <th>identity_hate</th>\n",
       "    </tr>\n",
       "  </thead>\n",
       "  <tbody>\n",
       "    <tr>\n",
       "      <th>0</th>\n",
       "      <td>0000997932d777bf</td>\n",
       "      <td>Explanation\\nWhy the edits made under my usern...</td>\n",
       "      <td>0</td>\n",
       "      <td>0</td>\n",
       "      <td>0</td>\n",
       "      <td>0</td>\n",
       "      <td>0</td>\n",
       "      <td>0</td>\n",
       "    </tr>\n",
       "    <tr>\n",
       "      <th>1</th>\n",
       "      <td>000103f0d9cfb60f</td>\n",
       "      <td>D'aww! He matches this background colour I'm s...</td>\n",
       "      <td>0</td>\n",
       "      <td>0</td>\n",
       "      <td>0</td>\n",
       "      <td>0</td>\n",
       "      <td>0</td>\n",
       "      <td>0</td>\n",
       "    </tr>\n",
       "    <tr>\n",
       "      <th>2</th>\n",
       "      <td>000113f07ec002fd</td>\n",
       "      <td>Hey man, I'm really not trying to edit war. It...</td>\n",
       "      <td>0</td>\n",
       "      <td>0</td>\n",
       "      <td>0</td>\n",
       "      <td>0</td>\n",
       "      <td>0</td>\n",
       "      <td>0</td>\n",
       "    </tr>\n",
       "    <tr>\n",
       "      <th>3</th>\n",
       "      <td>0001b41b1c6bb37e</td>\n",
       "      <td>\"\\nMore\\nI can't make any real suggestions on ...</td>\n",
       "      <td>0</td>\n",
       "      <td>0</td>\n",
       "      <td>0</td>\n",
       "      <td>0</td>\n",
       "      <td>0</td>\n",
       "      <td>0</td>\n",
       "    </tr>\n",
       "    <tr>\n",
       "      <th>4</th>\n",
       "      <td>0001d958c54c6e35</td>\n",
       "      <td>You, sir, are my hero. Any chance you remember...</td>\n",
       "      <td>0</td>\n",
       "      <td>0</td>\n",
       "      <td>0</td>\n",
       "      <td>0</td>\n",
       "      <td>0</td>\n",
       "      <td>0</td>\n",
       "    </tr>\n",
       "  </tbody>\n",
       "</table>\n",
       "</div>"
      ],
      "text/plain": [
       "                 id                                       comment_text  toxic  \\\n",
       "0  0000997932d777bf  Explanation\\nWhy the edits made under my usern...      0   \n",
       "1  000103f0d9cfb60f  D'aww! He matches this background colour I'm s...      0   \n",
       "2  000113f07ec002fd  Hey man, I'm really not trying to edit war. It...      0   \n",
       "3  0001b41b1c6bb37e  \"\\nMore\\nI can't make any real suggestions on ...      0   \n",
       "4  0001d958c54c6e35  You, sir, are my hero. Any chance you remember...      0   \n",
       "\n",
       "   severe_toxic  obscene  threat  insult  identity_hate  \n",
       "0             0        0       0       0              0  \n",
       "1             0        0       0       0              0  \n",
       "2             0        0       0       0              0  \n",
       "3             0        0       0       0              0  \n",
       "4             0        0       0       0              0  "
      ]
     },
     "execution_count": 3,
     "metadata": {},
     "output_type": "execute_result"
    }
   ],
   "source": [
    "df = pd.read_csv('train.csv')\n",
    "df = pd.DataFrame(df)\n",
    "df.head()"
   ]
  },
  {
   "cell_type": "markdown",
   "id": "9e83572b",
   "metadata": {},
   "source": [
    "### Checking for null values"
   ]
  },
  {
   "cell_type": "code",
   "execution_count": 4,
   "id": "a52b1951",
   "metadata": {},
   "outputs": [
    {
     "data": {
      "text/plain": [
       "id               0\n",
       "comment_text     0\n",
       "toxic            0\n",
       "severe_toxic     0\n",
       "obscene          0\n",
       "threat           0\n",
       "insult           0\n",
       "identity_hate    0\n",
       "dtype: int64"
      ]
     },
     "execution_count": 4,
     "metadata": {},
     "output_type": "execute_result"
    }
   ],
   "source": [
    "df.isnull().sum()"
   ]
  },
  {
   "cell_type": "markdown",
   "id": "b9fefbbf",
   "metadata": {},
   "source": [
    "### Cleaning the text"
   ]
  },
  {
   "cell_type": "code",
   "execution_count": 5,
   "id": "226edb84",
   "metadata": {},
   "outputs": [
    {
     "data": {
      "text/html": [
       "<div>\n",
       "<style scoped>\n",
       "    .dataframe tbody tr th:only-of-type {\n",
       "        vertical-align: middle;\n",
       "    }\n",
       "\n",
       "    .dataframe tbody tr th {\n",
       "        vertical-align: top;\n",
       "    }\n",
       "\n",
       "    .dataframe thead th {\n",
       "        text-align: right;\n",
       "    }\n",
       "</style>\n",
       "<table border=\"1\" class=\"dataframe\">\n",
       "  <thead>\n",
       "    <tr style=\"text-align: right;\">\n",
       "      <th></th>\n",
       "      <th>toxic</th>\n",
       "      <th>severe_toxic</th>\n",
       "      <th>obscene</th>\n",
       "      <th>threat</th>\n",
       "      <th>insult</th>\n",
       "      <th>identity_hate</th>\n",
       "      <th>cleaned_comment</th>\n",
       "    </tr>\n",
       "  </thead>\n",
       "  <tbody>\n",
       "    <tr>\n",
       "      <th>0</th>\n",
       "      <td>0</td>\n",
       "      <td>0</td>\n",
       "      <td>0</td>\n",
       "      <td>0</td>\n",
       "      <td>0</td>\n",
       "      <td>0</td>\n",
       "      <td>explanation\\nwhy the edits made under my usern...</td>\n",
       "    </tr>\n",
       "    <tr>\n",
       "      <th>1</th>\n",
       "      <td>0</td>\n",
       "      <td>0</td>\n",
       "      <td>0</td>\n",
       "      <td>0</td>\n",
       "      <td>0</td>\n",
       "      <td>0</td>\n",
       "      <td>daww he matches this background colour im seem...</td>\n",
       "    </tr>\n",
       "    <tr>\n",
       "      <th>2</th>\n",
       "      <td>0</td>\n",
       "      <td>0</td>\n",
       "      <td>0</td>\n",
       "      <td>0</td>\n",
       "      <td>0</td>\n",
       "      <td>0</td>\n",
       "      <td>hey man im really not trying to edit war its j...</td>\n",
       "    </tr>\n",
       "    <tr>\n",
       "      <th>3</th>\n",
       "      <td>0</td>\n",
       "      <td>0</td>\n",
       "      <td>0</td>\n",
       "      <td>0</td>\n",
       "      <td>0</td>\n",
       "      <td>0</td>\n",
       "      <td>\\nmore\\ni cant make any real suggestions on im...</td>\n",
       "    </tr>\n",
       "    <tr>\n",
       "      <th>4</th>\n",
       "      <td>0</td>\n",
       "      <td>0</td>\n",
       "      <td>0</td>\n",
       "      <td>0</td>\n",
       "      <td>0</td>\n",
       "      <td>0</td>\n",
       "      <td>you sir are my hero any chance you remember wh...</td>\n",
       "    </tr>\n",
       "  </tbody>\n",
       "</table>\n",
       "</div>"
      ],
      "text/plain": [
       "   toxic  severe_toxic  obscene  threat  insult  identity_hate  \\\n",
       "0      0             0        0       0       0              0   \n",
       "1      0             0        0       0       0              0   \n",
       "2      0             0        0       0       0              0   \n",
       "3      0             0        0       0       0              0   \n",
       "4      0             0        0       0       0              0   \n",
       "\n",
       "                                     cleaned_comment  \n",
       "0  explanation\\nwhy the edits made under my usern...  \n",
       "1  daww he matches this background colour im seem...  \n",
       "2  hey man im really not trying to edit war its j...  \n",
       "3  \\nmore\\ni cant make any real suggestions on im...  \n",
       "4  you sir are my hero any chance you remember wh...  "
      ]
     },
     "execution_count": 5,
     "metadata": {},
     "output_type": "execute_result"
    }
   ],
   "source": [
    "import re\n",
    "def clean_text(text):\n",
    "    text = re.sub(r'<.*?>', '', text)\n",
    "    text = re.sub(r'[^a-zA-Z\\s]', '', text)\n",
    "    return text.lower()\n",
    "df['cleaned_comment'] = df['comment_text'].apply(clean_text)\n",
    "df.drop(columns=['comment_text', 'id'], inplace=True)\n",
    "df.head()"
   ]
  },
  {
   "cell_type": "markdown",
   "id": "0503db4d",
   "metadata": {},
   "source": [
    "### Checking for any imbalance "
   ]
  },
  {
   "cell_type": "code",
   "execution_count": 6,
   "id": "958f291e",
   "metadata": {},
   "outputs": [
    {
     "data": {
      "text/plain": [
       "toxic            15294\n",
       "severe_toxic      1595\n",
       "obscene           8449\n",
       "threat             478\n",
       "insult            7877\n",
       "identity_hate     1405\n",
       "dtype: int64"
      ]
     },
     "execution_count": 6,
     "metadata": {},
     "output_type": "execute_result"
    }
   ],
   "source": [
    "df[['toxic', 'severe_toxic', 'obscene', 'threat', 'insult', 'identity_hate']].sum()"
   ]
  },
  {
   "cell_type": "markdown",
   "id": "a4cd1563",
   "metadata": {},
   "source": [
    "### Computing class weight for each label"
   ]
  },
  {
   "cell_type": "code",
   "execution_count": 7,
   "id": "0280a591",
   "metadata": {},
   "outputs": [
    {
     "data": {
      "text/plain": [
       "{'toxic': {0: np.float64(0.5530022110246262),\n",
       "  1: np.float64(5.216784359879691)},\n",
       " 'severe_toxic': {0: np.float64(0.5050482351749633),\n",
       "  1: np.float64(50.02225705329153)},\n",
       " 'obscene': {0: np.float64(0.5279542356506663),\n",
       "  1: np.float64(9.443188543022844)},\n",
       " 'threat': {0: np.float64(0.5015022659702186),\n",
       "  1: np.float64(166.9152719665272)},\n",
       " 'insult': {0: np.float64(0.5259634527403853),\n",
       "  1: np.float64(10.128919639456646)},\n",
       " 'identity_hate': {0: np.float64(0.5044415361076338),\n",
       "  1: np.float64(56.78683274021353)}}"
      ]
     },
     "execution_count": 7,
     "metadata": {},
     "output_type": "execute_result"
    }
   ],
   "source": [
    "from sklearn.utils import class_weight\n",
    "\n",
    "label_cols = ['toxic', 'severe_toxic', 'obscene', 'threat', 'insult', 'identity_hate']\n",
    "class_weights = {}\n",
    "\n",
    "for col in label_cols:\n",
    "    weights = class_weight.compute_class_weight(\n",
    "        class_weight='balanced',\n",
    "        classes=np.unique(df[col]),\n",
    "        y=df[col]\n",
    "    )\n",
    "    class_weights[col] = dict(enumerate(weights))\n",
    "class_weights"
   ]
  },
  {
   "cell_type": "code",
   "execution_count": 8,
   "id": "745d0a88",
   "metadata": {},
   "outputs": [],
   "source": [
    "# Create a weight matrix: shape (6, 2) for 6 labels and 2 classes (0 and 1)\n",
    "weight_matrix = np.array([[class_weights[label][0], class_weights[label][1]] for label in label_cols])\n",
    "weight_tensor = tf.constant(weight_matrix, dtype=tf.float32)"
   ]
  },
  {
   "cell_type": "code",
   "execution_count": 9,
   "id": "5ca67897",
   "metadata": {},
   "outputs": [],
   "source": [
    "def multilabel_weighted_loss(y_true, y_pred):\n",
    "   \n",
    "    y_true = tf.cast(y_true, tf.float32)\n",
    "    y_pred = tf.cast(y_pred, tf.float32)\n",
    "\n",
    "    # Binary crossentropy: shape (batch_size, 6)\n",
    "    bce = tf.keras.backend.binary_crossentropy(y_true, y_pred)\n",
    "\n",
    "    # Extract weights for class 0 and class 1\n",
    "    w0 = weight_matrix[:, 0]  # shape: (6,)\n",
    "    w1 = weight_matrix[:, 1]  # shape: (6,)\n",
    "\n",
    "    # Broadcast weights across batch\n",
    "    weights = y_true * w1 + (1 - y_true) * w0  # shape: (batch_size, 6)\n",
    "\n",
    "    # Apply weights to loss\n",
    "    weighted_loss = bce * weights\n",
    "\n",
    "    return tf.reduce_mean(weighted_loss)"
   ]
  },
  {
   "cell_type": "markdown",
   "id": "bc835de1",
   "metadata": {},
   "source": [
    "# LSTM Model"
   ]
  },
  {
   "cell_type": "markdown",
   "id": "7f5b8165",
   "metadata": {},
   "source": [
    "### Split into training, validation and test sets"
   ]
  },
  {
   "cell_type": "code",
   "execution_count": 10,
   "id": "47218f0e",
   "metadata": {},
   "outputs": [],
   "source": [
    "from skmultilearn.model_selection import iterative_train_test_split\n",
    "\n",
    "X = df['cleaned_comment']\n",
    "y = df[['toxic', 'severe_toxic', 'obscene', 'threat', 'insult', 'identity_hate']]  \n",
    "\n",
    "X_np = np.array(X).reshape(-1, 1)  # reshape for compatibility\n",
    "y_np = y.values\n",
    "\n",
    "X_train, y_train, X_temp, y_temp = iterative_train_test_split(X_np, y_np, test_size=0.3)\n",
    "\n",
    "X_val, y_val, X_test, y_test = iterative_train_test_split(X_temp, y_temp, test_size=0.5)"
   ]
  },
  {
   "cell_type": "markdown",
   "id": "cb8381a6",
   "metadata": {},
   "source": [
    "### Creating labels"
   ]
  },
  {
   "cell_type": "code",
   "execution_count": 11,
   "id": "5261a446",
   "metadata": {},
   "outputs": [],
   "source": [
    "label_cols = ['toxic', 'severe_toxic', 'obscene', 'threat', 'insult', 'identity_hate']\n",
    "labels = df[label_cols].values"
   ]
  },
  {
   "cell_type": "markdown",
   "id": "095e0ab7",
   "metadata": {},
   "source": [
    "### Building the model"
   ]
  },
  {
   "cell_type": "code",
   "execution_count": 12,
   "id": "6e1675ba",
   "metadata": {},
   "outputs": [
    {
     "name": "stderr",
     "output_type": "stream",
     "text": [
      "c:\\Users\\krith\\AppData\\Local\\Programs\\Python\\Python312\\Lib\\site-packages\\keras\\src\\layers\\core\\embedding.py:100: UserWarning: Do not pass an `input_shape`/`input_dim` argument to a layer. When using Sequential models, prefer using an `Input(shape)` object as the first layer in the model instead.\n",
      "  super().__init__(**kwargs)\n"
     ]
    }
   ],
   "source": [
    "from tensorflow.keras.models import Sequential\n",
    "from tensorflow.keras.layers import Embedding, LSTM, Dense, Dropout\n",
    "\n",
    "model = Sequential([\n",
    "    Embedding(input_dim=50000, output_dim=128, input_shape=(150,)),\n",
    "    LSTM(64),\n",
    "    Dropout(0.5),\n",
    "    Dense(6, activation='sigmoid')\n",
    "])"
   ]
  },
  {
   "cell_type": "code",
   "execution_count": 13,
   "id": "4440f85a",
   "metadata": {},
   "outputs": [
    {
     "data": {
      "text/html": [
       "<pre style=\"white-space:pre;overflow-x:auto;line-height:normal;font-family:Menlo,'DejaVu Sans Mono',consolas,'Courier New',monospace\"><span style=\"font-weight: bold\">Model: \"sequential\"</span>\n",
       "</pre>\n"
      ],
      "text/plain": [
       "\u001b[1mModel: \"sequential\"\u001b[0m\n"
      ]
     },
     "metadata": {},
     "output_type": "display_data"
    },
    {
     "data": {
      "text/html": [
       "<pre style=\"white-space:pre;overflow-x:auto;line-height:normal;font-family:Menlo,'DejaVu Sans Mono',consolas,'Courier New',monospace\">┏━━━━━━━━━━━━━━━━━━━━━━━━━━━━━━━━━┳━━━━━━━━━━━━━━━━━━━━━━━━┳━━━━━━━━━━━━━━━┓\n",
       "┃<span style=\"font-weight: bold\"> Layer (type)                    </span>┃<span style=\"font-weight: bold\"> Output Shape           </span>┃<span style=\"font-weight: bold\">       Param # </span>┃\n",
       "┡━━━━━━━━━━━━━━━━━━━━━━━━━━━━━━━━━╇━━━━━━━━━━━━━━━━━━━━━━━━╇━━━━━━━━━━━━━━━┩\n",
       "│ embedding (<span style=\"color: #0087ff; text-decoration-color: #0087ff\">Embedding</span>)           │ (<span style=\"color: #00d7ff; text-decoration-color: #00d7ff\">None</span>, <span style=\"color: #00af00; text-decoration-color: #00af00\">150</span>, <span style=\"color: #00af00; text-decoration-color: #00af00\">128</span>)       │     <span style=\"color: #00af00; text-decoration-color: #00af00\">6,400,000</span> │\n",
       "├─────────────────────────────────┼────────────────────────┼───────────────┤\n",
       "│ lstm (<span style=\"color: #0087ff; text-decoration-color: #0087ff\">LSTM</span>)                     │ (<span style=\"color: #00d7ff; text-decoration-color: #00d7ff\">None</span>, <span style=\"color: #00af00; text-decoration-color: #00af00\">64</span>)             │        <span style=\"color: #00af00; text-decoration-color: #00af00\">49,408</span> │\n",
       "├─────────────────────────────────┼────────────────────────┼───────────────┤\n",
       "│ dropout (<span style=\"color: #0087ff; text-decoration-color: #0087ff\">Dropout</span>)               │ (<span style=\"color: #00d7ff; text-decoration-color: #00d7ff\">None</span>, <span style=\"color: #00af00; text-decoration-color: #00af00\">64</span>)             │             <span style=\"color: #00af00; text-decoration-color: #00af00\">0</span> │\n",
       "├─────────────────────────────────┼────────────────────────┼───────────────┤\n",
       "│ dense (<span style=\"color: #0087ff; text-decoration-color: #0087ff\">Dense</span>)                   │ (<span style=\"color: #00d7ff; text-decoration-color: #00d7ff\">None</span>, <span style=\"color: #00af00; text-decoration-color: #00af00\">6</span>)              │           <span style=\"color: #00af00; text-decoration-color: #00af00\">390</span> │\n",
       "└─────────────────────────────────┴────────────────────────┴───────────────┘\n",
       "</pre>\n"
      ],
      "text/plain": [
       "┏━━━━━━━━━━━━━━━━━━━━━━━━━━━━━━━━━┳━━━━━━━━━━━━━━━━━━━━━━━━┳━━━━━━━━━━━━━━━┓\n",
       "┃\u001b[1m \u001b[0m\u001b[1mLayer (type)                   \u001b[0m\u001b[1m \u001b[0m┃\u001b[1m \u001b[0m\u001b[1mOutput Shape          \u001b[0m\u001b[1m \u001b[0m┃\u001b[1m \u001b[0m\u001b[1m      Param #\u001b[0m\u001b[1m \u001b[0m┃\n",
       "┡━━━━━━━━━━━━━━━━━━━━━━━━━━━━━━━━━╇━━━━━━━━━━━━━━━━━━━━━━━━╇━━━━━━━━━━━━━━━┩\n",
       "│ embedding (\u001b[38;5;33mEmbedding\u001b[0m)           │ (\u001b[38;5;45mNone\u001b[0m, \u001b[38;5;34m150\u001b[0m, \u001b[38;5;34m128\u001b[0m)       │     \u001b[38;5;34m6,400,000\u001b[0m │\n",
       "├─────────────────────────────────┼────────────────────────┼───────────────┤\n",
       "│ lstm (\u001b[38;5;33mLSTM\u001b[0m)                     │ (\u001b[38;5;45mNone\u001b[0m, \u001b[38;5;34m64\u001b[0m)             │        \u001b[38;5;34m49,408\u001b[0m │\n",
       "├─────────────────────────────────┼────────────────────────┼───────────────┤\n",
       "│ dropout (\u001b[38;5;33mDropout\u001b[0m)               │ (\u001b[38;5;45mNone\u001b[0m, \u001b[38;5;34m64\u001b[0m)             │             \u001b[38;5;34m0\u001b[0m │\n",
       "├─────────────────────────────────┼────────────────────────┼───────────────┤\n",
       "│ dense (\u001b[38;5;33mDense\u001b[0m)                   │ (\u001b[38;5;45mNone\u001b[0m, \u001b[38;5;34m6\u001b[0m)              │           \u001b[38;5;34m390\u001b[0m │\n",
       "└─────────────────────────────────┴────────────────────────┴───────────────┘\n"
      ]
     },
     "metadata": {},
     "output_type": "display_data"
    },
    {
     "data": {
      "text/html": [
       "<pre style=\"white-space:pre;overflow-x:auto;line-height:normal;font-family:Menlo,'DejaVu Sans Mono',consolas,'Courier New',monospace\"><span style=\"font-weight: bold\"> Total params: </span><span style=\"color: #00af00; text-decoration-color: #00af00\">6,449,798</span> (24.60 MB)\n",
       "</pre>\n"
      ],
      "text/plain": [
       "\u001b[1m Total params: \u001b[0m\u001b[38;5;34m6,449,798\u001b[0m (24.60 MB)\n"
      ]
     },
     "metadata": {},
     "output_type": "display_data"
    },
    {
     "data": {
      "text/html": [
       "<pre style=\"white-space:pre;overflow-x:auto;line-height:normal;font-family:Menlo,'DejaVu Sans Mono',consolas,'Courier New',monospace\"><span style=\"font-weight: bold\"> Trainable params: </span><span style=\"color: #00af00; text-decoration-color: #00af00\">6,449,798</span> (24.60 MB)\n",
       "</pre>\n"
      ],
      "text/plain": [
       "\u001b[1m Trainable params: \u001b[0m\u001b[38;5;34m6,449,798\u001b[0m (24.60 MB)\n"
      ]
     },
     "metadata": {},
     "output_type": "display_data"
    },
    {
     "data": {
      "text/html": [
       "<pre style=\"white-space:pre;overflow-x:auto;line-height:normal;font-family:Menlo,'DejaVu Sans Mono',consolas,'Courier New',monospace\"><span style=\"font-weight: bold\"> Non-trainable params: </span><span style=\"color: #00af00; text-decoration-color: #00af00\">0</span> (0.00 B)\n",
       "</pre>\n"
      ],
      "text/plain": [
       "\u001b[1m Non-trainable params: \u001b[0m\u001b[38;5;34m0\u001b[0m (0.00 B)\n"
      ]
     },
     "metadata": {},
     "output_type": "display_data"
    }
   ],
   "source": [
    "model.summary()"
   ]
  },
  {
   "cell_type": "markdown",
   "id": "b0a217b3",
   "metadata": {},
   "source": [
    "### Compile the model"
   ]
  },
  {
   "cell_type": "code",
   "execution_count": 14,
   "id": "49fcdb4e",
   "metadata": {},
   "outputs": [],
   "source": [
    "model.compile(\n",
    "    loss=multilabel_weighted_loss,\n",
    "    optimizer='adam',\n",
    "    metrics=['accuracy']\n",
    ")"
   ]
  },
  {
   "cell_type": "markdown",
   "id": "1b07e129",
   "metadata": {},
   "source": [
    "### Turning dataframes to 2D arrays"
   ]
  },
  {
   "cell_type": "code",
   "execution_count": 15,
   "id": "10bf6563",
   "metadata": {},
   "outputs": [],
   "source": [
    "y_train = y_train\n",
    "y_val = y_val"
   ]
  },
  {
   "cell_type": "markdown",
   "id": "2a1c233d",
   "metadata": {},
   "source": [
    "### Cleaning"
   ]
  },
  {
   "cell_type": "code",
   "execution_count": 16,
   "id": "f44da8d4",
   "metadata": {},
   "outputs": [],
   "source": [
    "X_train = [clean_text(x[0]) for x in X_train]\n",
    "X_val = [clean_text(x[0]) for x in X_val]"
   ]
  },
  {
   "cell_type": "code",
   "execution_count": 17,
   "id": "fdd7ffe1",
   "metadata": {},
   "outputs": [],
   "source": [
    "import re\n",
    "\n",
    "def clean_text(text):\n",
    "    text = text.lower()\n",
    "    text = re.sub(r'\\n', ' ', text)\n",
    "    text = re.sub(r'[^a-zA-Z0-9\\s]', '', text)\n",
    "    return text\n",
    "\n",
    "X_train = [clean_text(str(x)) for x in X_train]\n",
    "X_val = [clean_text(str(x)) for x in X_val]\n",
    "X_test = [clean_text(str(x)) for x in X_test]"
   ]
  },
  {
   "cell_type": "markdown",
   "id": "6a7346a0",
   "metadata": {},
   "source": [
    "### Tokenizing and padding"
   ]
  },
  {
   "cell_type": "code",
   "execution_count": 18,
   "id": "54324ded",
   "metadata": {},
   "outputs": [],
   "source": [
    "from tensorflow.keras.preprocessing.text import Tokenizer\n",
    "from tensorflow.keras.preprocessing.sequence import pad_sequences\n",
    "\n",
    "tokenizer = Tokenizer(num_words=15000, oov_token=\"<OOV>\")\n",
    "tokenizer.fit_on_texts(X_train)\n",
    "\n",
    "X_train_seq = tokenizer.texts_to_sequences(X_train)\n",
    "X_val_seq = tokenizer.texts_to_sequences(X_val)\n",
    "X_test_seq = tokenizer.texts_to_sequences(X_test)\n",
    "\n",
    "max_len = 200\n",
    "X_train_pad = pad_sequences(X_train_seq, maxlen=max_len, padding='post')\n",
    "X_val_pad = pad_sequences(X_val_seq, maxlen=max_len, padding='post')\n",
    "X_test_pad = pad_sequences(X_test_seq, maxlen=max_len, padding='post')"
   ]
  },
  {
   "cell_type": "code",
   "execution_count": 19,
   "id": "46e8fb32",
   "metadata": {},
   "outputs": [
    {
     "name": "stdout",
     "output_type": "stream",
     "text": [
      "14999\n"
     ]
    }
   ],
   "source": [
    "import numpy as np\n",
    "print(np.max(X_test_pad))  # Should be < 15000"
   ]
  },
  {
   "cell_type": "code",
   "execution_count": 20,
   "id": "a65992a7",
   "metadata": {},
   "outputs": [],
   "source": [
    "y_train = np.array(y_train).astype('float32')\n",
    "y_val = np.array(y_val).astype('float32')"
   ]
  },
  {
   "cell_type": "markdown",
   "id": "8b842609",
   "metadata": {},
   "source": [
    "### Computing class weight"
   ]
  },
  {
   "cell_type": "code",
   "execution_count": 21,
   "id": "b3a744de",
   "metadata": {},
   "outputs": [],
   "source": [
    "from sklearn.utils import class_weight\n",
    "\n",
    "label_cols = ['toxic', 'severe_toxic', 'obscene', 'threat', 'insult', 'identity_hate']\n",
    "class_weights = {}\n",
    "\n",
    "for col in label_cols:\n",
    "    weights = class_weight.compute_class_weight(\n",
    "        class_weight='balanced',\n",
    "        classes=np.unique(df[col]),\n",
    "        y=df[col]\n",
    "    )\n",
    "    class_weights[col] = dict(enumerate(weights))\n",
    "\n",
    "# Convert to matrix\n",
    "weight_matrix = np.array([[class_weights[label][0], class_weights[label][1]] for label in label_cols])"
   ]
  },
  {
   "cell_type": "code",
   "execution_count": 22,
   "id": "9e486241",
   "metadata": {},
   "outputs": [],
   "source": [
    "weight_matrix_tf = tf.constant(weight_matrix, dtype=tf.float32)\n",
    "\n",
    "def multilabel_weighted_loss(y_true, y_pred):\n",
    "    y_true = tf.cast(y_true, tf.float32)\n",
    "    y_pred = tf.cast(y_pred, tf.float32)\n",
    "\n",
    "    bce = tf.keras.backend.binary_crossentropy(y_true, y_pred)\n",
    "\n",
    "    w0 = weight_matrix_tf[:, 0]\n",
    "    w1 = weight_matrix_tf[:, 1]\n",
    "\n",
    "    weights = y_true * w1 + (1 - y_true) * w0\n",
    "    weighted_loss = bce * weights\n",
    "\n",
    "    return tf.reduce_mean(weighted_loss)"
   ]
  },
  {
   "cell_type": "code",
   "execution_count": 23,
   "id": "dc704be5",
   "metadata": {},
   "outputs": [
    {
     "name": "stderr",
     "output_type": "stream",
     "text": [
      "c:\\Users\\krith\\AppData\\Local\\Programs\\Python\\Python312\\Lib\\site-packages\\keras\\src\\layers\\core\\embedding.py:97: UserWarning: Argument `input_length` is deprecated. Just remove it.\n",
      "  warnings.warn(\n"
     ]
    }
   ],
   "source": [
    "from keras.regularizers import l2\n",
    "\n",
    "model = Sequential([\n",
    "    Embedding(input_dim=15000, output_dim=64, input_length=200),\n",
    "    LSTM(64),\n",
    "    Dropout(0.3),\n",
    "    Dense(64, activation='relu', kernel_regularizer=l2(0.001)),\n",
    "    Dropout(0.3),\n",
    "    Dense(6, activation='sigmoid')\n",
    "])"
   ]
  },
  {
   "cell_type": "code",
   "execution_count": 24,
   "id": "4fb80a50",
   "metadata": {},
   "outputs": [],
   "source": [
    "model.compile(optimizer='adam', loss='binary_crossentropy', metrics=['accuracy'])\n",
    "# model.fit(X_train_pad[:100], y_train[:100], epochs=1)"
   ]
  },
  {
   "cell_type": "code",
   "execution_count": 25,
   "id": "892004bc",
   "metadata": {},
   "outputs": [
    {
     "name": "stdout",
     "output_type": "stream",
     "text": [
      "X_train_pad: <class 'numpy.ndarray'> (111699, 200)\n",
      "y_train: <class 'numpy.ndarray'> (111699, 6)\n",
      "X_val_pad: <class 'numpy.ndarray'> (23936, 200)\n",
      "y_val: <class 'numpy.ndarray'> (23936, 6)\n"
     ]
    }
   ],
   "source": [
    "print(\"X_train_pad:\", type(X_train_pad), np.shape(X_train_pad))\n",
    "print(\"y_train:\", type(y_train), np.shape(y_train))\n",
    "print(\"X_val_pad:\", type(X_val_pad), np.shape(X_val_pad))\n",
    "print(\"y_val:\", type(y_val), np.shape(y_val))"
   ]
  },
  {
   "cell_type": "code",
   "execution_count": 26,
   "id": "103e85d7",
   "metadata": {},
   "outputs": [
    {
     "name": "stdout",
     "output_type": "stream",
     "text": [
      "Train samples: 111699 111699\n",
      "Validation samples: 23936 23936\n",
      "Test samples: 23936 23936\n"
     ]
    }
   ],
   "source": [
    "print(\"Train samples:\", len(X_train_pad), len(y_train))\n",
    "print(\"Validation samples:\", len(X_val_pad), len(y_val))\n",
    "print(\"Test samples:\", len(X_test_pad), len(y_test))"
   ]
  },
  {
   "cell_type": "code",
   "execution_count": 27,
   "id": "76ff902b",
   "metadata": {},
   "outputs": [],
   "source": [
    "X_train_pad = np.array(X_train_pad)\n",
    "y_train = np.array(y_train).astype(np.float32)\n",
    "X_val_pad = np.array(X_val_pad)\n",
    "y_val = np.array(y_val).astype(np.float32)\n",
    "X_test_pad = np.array(X_test_pad)\n",
    "y_test = np.array(y_test).astype(np.float32)"
   ]
  },
  {
   "cell_type": "code",
   "execution_count": 28,
   "id": "9cfa5e3a",
   "metadata": {},
   "outputs": [
    {
     "name": "stdout",
     "output_type": "stream",
     "text": [
      "False False\n",
      "False False\n"
     ]
    }
   ],
   "source": [
    "print(np.any(np.isnan(X_train_pad)), np.any(np.isnan(y_train)))\n",
    "print(np.any(np.isinf(X_train_pad)), np.any(np.isinf(y_train)))"
   ]
  },
  {
   "cell_type": "code",
   "execution_count": 29,
   "id": "983a08ff",
   "metadata": {},
   "outputs": [],
   "source": [
    "# model.fit(X_train_pad[:100], y_train[:100], epochs=1)"
   ]
  },
  {
   "cell_type": "markdown",
   "id": "c447729b",
   "metadata": {},
   "source": [
    "### Model training"
   ]
  },
  {
   "cell_type": "code",
   "execution_count": 30,
   "id": "77409a37",
   "metadata": {},
   "outputs": [
    {
     "name": "stdout",
     "output_type": "stream",
     "text": [
      "Epoch 1/50\n",
      "\u001b[1m3491/3491\u001b[0m \u001b[32m━━━━━━━━━━━━━━━━━━━━\u001b[0m\u001b[37m\u001b[0m \u001b[1m128s\u001b[0m 36ms/step - accuracy: 0.9132 - loss: 0.1545 - val_accuracy: 0.9946 - val_loss: 0.1312\n",
      "Epoch 2/50\n",
      "\u001b[1m3491/3491\u001b[0m \u001b[32m━━━━━━━━━━━━━━━━━━━━\u001b[0m\u001b[37m\u001b[0m \u001b[1m127s\u001b[0m 36ms/step - accuracy: 0.9940 - loss: 0.0726 - val_accuracy: 0.9946 - val_loss: 0.0558\n",
      "Epoch 3/50\n",
      "\u001b[1m3491/3491\u001b[0m \u001b[32m━━━━━━━━━━━━━━━━━━━━\u001b[0m\u001b[37m\u001b[0m \u001b[1m167s\u001b[0m 48ms/step - accuracy: 0.9940 - loss: 0.0538 - val_accuracy: 0.9946 - val_loss: 0.0531\n",
      "Epoch 4/50\n",
      "\u001b[1m3491/3491\u001b[0m \u001b[32m━━━━━━━━━━━━━━━━━━━━\u001b[0m\u001b[37m\u001b[0m \u001b[1m174s\u001b[0m 50ms/step - accuracy: 0.9940 - loss: 0.0482 - val_accuracy: 0.9946 - val_loss: 0.0520\n",
      "Epoch 5/50\n",
      "\u001b[1m3491/3491\u001b[0m \u001b[32m━━━━━━━━━━━━━━━━━━━━\u001b[0m\u001b[37m\u001b[0m \u001b[1m169s\u001b[0m 48ms/step - accuracy: 0.9940 - loss: 0.0445 - val_accuracy: 0.9946 - val_loss: 0.0563\n",
      "Epoch 6/50\n",
      "\u001b[1m3491/3491\u001b[0m \u001b[32m━━━━━━━━━━━━━━━━━━━━\u001b[0m\u001b[37m\u001b[0m \u001b[1m177s\u001b[0m 51ms/step - accuracy: 0.9938 - loss: 0.0413 - val_accuracy: 0.9946 - val_loss: 0.0555\n"
     ]
    }
   ],
   "source": [
    "from keras.callbacks import EarlyStopping\n",
    "\n",
    "early_stop = EarlyStopping(monitor='val_loss', patience=2, restore_best_weights=True)\n",
    "\n",
    "history = model.fit(\n",
    "    X_train_pad, y_train,\n",
    "    validation_data=(X_val_pad, y_val),\n",
    "    epochs=50,\n",
    "    callbacks=[early_stop]\n",
    ")"
   ]
  },
  {
   "cell_type": "code",
   "execution_count": 31,
   "id": "def51d80",
   "metadata": {},
   "outputs": [
    {
     "data": {
      "image/png": "[encoded data removed]",
      "text/plain": [
       "<Figure size 640x480 with 1 Axes>"
      ]
     },
     "metadata": {},
     "output_type": "display_data"
    }
   ],
   "source": [
    "import matplotlib.pyplot as plt\n",
    "\n",
    "plt.plot(history.history['loss'], label='Train Loss')\n",
    "plt.plot(history.history['val_loss'], label='Validation Loss')\n",
    "plt.xlabel('Epochs')\n",
    "plt.ylabel('Loss')\n",
    "plt.legend()\n",
    "plt.title('Training vs Validation Loss')\n",
    "plt.show()"
   ]
  },
  {
   "cell_type": "markdown",
   "id": "41c8e198",
   "metadata": {},
   "source": [
    "### Evaluate the model"
   ]
  },
  {
   "cell_type": "code",
   "execution_count": 32,
   "id": "18ca2615",
   "metadata": {},
   "outputs": [
    {
     "name": "stdout",
     "output_type": "stream",
     "text": [
      "748/748 - 14s - 19ms/step - accuracy: 0.9944 - loss: 0.0568\n",
      "Test Accuracy: 0.994401752948761\n"
     ]
    }
   ],
   "source": [
    "loss, acc = model.evaluate(X_test_pad, y_test, verbose=2)\n",
    "print(\"Test Accuracy:\", acc)"
   ]
  },
  {
   "cell_type": "markdown",
   "id": "d9151291",
   "metadata": {},
   "source": [
    "### Making the predictions with validation dataset"
   ]
  },
  {
   "cell_type": "code",
   "execution_count": 33,
   "id": "0adf9e16",
   "metadata": {},
   "outputs": [
    {
     "name": "stdout",
     "output_type": "stream",
     "text": [
      "\u001b[1m748/748\u001b[0m \u001b[32m━━━━━━━━━━━━━━━━━━━━\u001b[0m\u001b[37m\u001b[0m \u001b[1m15s\u001b[0m 19ms/step\n"
     ]
    }
   ],
   "source": [
    "y_pred_proba = model.predict(X_val_pad)"
   ]
  },
  {
   "cell_type": "markdown",
   "id": "13b7d2ce",
   "metadata": {},
   "source": [
    "### Threshold tuning with Precision, Recall and F1-Score"
   ]
  },
  {
   "cell_type": "code",
   "execution_count": 34,
   "id": "4978bba9",
   "metadata": {},
   "outputs": [
    {
     "data": {
      "text/plain": [
       "[np.float64(0.5),\n",
       " np.float64(0.30000000000000004),\n",
       " np.float64(0.4),\n",
       " np.float64(0.1),\n",
       " np.float64(0.4),\n",
       " np.float64(0.1)]"
      ]
     },
     "execution_count": 34,
     "metadata": {},
     "output_type": "execute_result"
    }
   ],
   "source": [
    "import numpy as np\n",
    "from sklearn.metrics import f1_score\n",
    "\n",
    "best_thresholds = []\n",
    "\n",
    "for i in range(y_val.shape[1]):\n",
    "    thresholds = np.linspace(0.1, 0.9, 9)\n",
    "    f1_scores = []\n",
    "\n",
    "    for t in thresholds:\n",
    "        y_pred_bin = (y_pred_proba[:, i] > t).astype(int)\n",
    "        f1 = f1_score(y_val[:, i], y_pred_bin, zero_division=0)\n",
    "        f1_scores.append(f1)\n",
    "\n",
    "    best_t = thresholds[np.argmax(f1_scores)]\n",
    "    best_thresholds.append(best_t)\n",
    "\n",
    "best_thresholds"
   ]
  },
  {
   "cell_type": "code",
   "execution_count": 35,
   "id": "66b7ce44",
   "metadata": {},
   "outputs": [],
   "source": [
    "y_pred_opt = np.zeros_like(y_pred_proba)\n",
    "\n",
    "for i, t in enumerate(best_thresholds):\n",
    "    y_pred_opt[:, i] = (y_pred_proba[:, i] > t).astype(int)"
   ]
  },
  {
   "cell_type": "markdown",
   "id": "bbac58f0",
   "metadata": {},
   "source": [
    "### Making predictions with test dataset by applying the tuned threshold"
   ]
  },
  {
   "cell_type": "code",
   "execution_count": 36,
   "id": "4be3c358",
   "metadata": {},
   "outputs": [
    {
     "name": "stdout",
     "output_type": "stream",
     "text": [
      "\u001b[1m748/748\u001b[0m \u001b[32m━━━━━━━━━━━━━━━━━━━━\u001b[0m\u001b[37m\u001b[0m \u001b[1m14s\u001b[0m 19ms/step\n"
     ]
    }
   ],
   "source": [
    "y_test_probs = model.predict(X_test_pad)\n",
    "y_test_pred = (y_test_probs > best_thresholds).astype(int)"
   ]
  },
  {
   "cell_type": "markdown",
   "id": "a9cf8d7a",
   "metadata": {},
   "source": [
    "### Classification report"
   ]
  },
  {
   "cell_type": "code",
   "execution_count": 37,
   "id": "e0d3821c",
   "metadata": {},
   "outputs": [
    {
     "name": "stdout",
     "output_type": "stream",
     "text": [
      "[2157  418 1363    0 1285  824]\n",
      "               precision    recall  f1-score   support\n",
      "\n",
      "        toxic       0.80      0.75      0.77      2294\n",
      " severe_toxic       0.37      0.64      0.47       239\n",
      "      obscene       0.75      0.81      0.78      1268\n",
      "       threat       0.00      0.00      0.00        72\n",
      "       insult       0.67      0.73      0.70      1182\n",
      "identity_hate       0.12      0.45      0.19       220\n",
      "\n",
      "    micro avg       0.64      0.73      0.68      5275\n",
      "    macro avg       0.45      0.56      0.48      5275\n",
      " weighted avg       0.70      0.73      0.71      5275\n",
      "  samples avg       0.06      0.07      0.06      5275\n",
      "\n"
     ]
    },
    {
     "name": "stderr",
     "output_type": "stream",
     "text": [
      "c:\\Users\\krith\\AppData\\Local\\Programs\\Python\\Python312\\Lib\\site-packages\\sklearn\\metrics\\_classification.py:1731: UndefinedMetricWarning: Precision is ill-defined and being set to 0.0 in labels with no predicted samples. Use `zero_division` parameter to control this behavior.\n",
      "  _warn_prf(average, modifier, f\"{metric.capitalize()} is\", result.shape[0])\n",
      "c:\\Users\\krith\\AppData\\Local\\Programs\\Python\\Python312\\Lib\\site-packages\\sklearn\\metrics\\_classification.py:1731: UndefinedMetricWarning: Precision is ill-defined and being set to 0.0 in samples with no predicted labels. Use `zero_division` parameter to control this behavior.\n",
      "  _warn_prf(average, modifier, f\"{metric.capitalize()} is\", result.shape[0])\n",
      "c:\\Users\\krith\\AppData\\Local\\Programs\\Python\\Python312\\Lib\\site-packages\\sklearn\\metrics\\_classification.py:1731: UndefinedMetricWarning: Recall is ill-defined and being set to 0.0 in samples with no true labels. Use `zero_division` parameter to control this behavior.\n",
      "  _warn_prf(average, modifier, f\"{metric.capitalize()} is\", result.shape[0])\n",
      "c:\\Users\\krith\\AppData\\Local\\Programs\\Python\\Python312\\Lib\\site-packages\\sklearn\\metrics\\_classification.py:1731: UndefinedMetricWarning: F-score is ill-defined and being set to 0.0 in samples with no true nor predicted labels. Use `zero_division` parameter to control this behavior.\n",
      "  _warn_prf(average, modifier, f\"{metric.capitalize()} is\", result.shape[0])\n"
     ]
    }
   ],
   "source": [
    "import numpy as np\n",
    "from sklearn.metrics import classification_report\n",
    "\n",
    "# Convert list to NumPy array\n",
    "thresholds = np.array(best_thresholds)  # shape: (6,)\n",
    "\n",
    "# Apply thresholds to predicted probabilities\n",
    "y_test_pred = (y_test_probs > thresholds).astype(int)\n",
    "\n",
    "# Evaluate performance\n",
    "print(np.sum(y_test_pred, axis=0))  # Number of predicted positives per class\n",
    "print(classification_report(y_test, y_test_pred, target_names=[\n",
    "    'toxic', 'severe_toxic', 'obscene', 'threat', 'insult', 'identity_hate'\n",
    "]))"
   ]
  },
  {
   "cell_type": "markdown",
   "id": "18abce95",
   "metadata": {},
   "source": [
    "### Visualization"
   ]
  },
  {
   "cell_type": "code",
   "execution_count": 38,
   "id": "fc1f0c15",
   "metadata": {},
   "outputs": [
    {
     "data": {
      "image/png": "[encoded data removed]",
      "text/plain": [
       "<Figure size 640x480 with 1 Axes>"
      ]
     },
     "metadata": {},
     "output_type": "display_data"
    }
   ],
   "source": [
    "import matplotlib.pyplot as plt\n",
    "\n",
    "for i, label in enumerate(['toxic', 'severe_toxic', 'obscene', 'threat', 'insult', 'identity_hate']):\n",
    "    thresholds = np.linspace(0.1, 0.9, 9)\n",
    "    f1s = [f1_score(y_test[:, i], (y_test_probs[:, i] > t).astype(int), zero_division=0) for t in thresholds]\n",
    "    plt.plot(thresholds, f1s, label=label)\n",
    "\n",
    "plt.xlabel(\"Threshold\")\n",
    "plt.ylabel(\"F1 Score\")\n",
    "plt.title(\"Threshold vs F1 Score per Label\")\n",
    "plt.legend()\n",
    "plt.grid(True)\n",
    "plt.tight_layout()\n",
    "plt.show()"
   ]
  },
  {
   "cell_type": "markdown",
   "id": "ad33c907",
   "metadata": {},
   "source": [
    "### Confusion matrix"
   ]
  },
  {
   "cell_type": "code",
   "execution_count": 39,
   "id": "3ff12292",
   "metadata": {},
   "outputs": [
    {
     "data": {
      "image/png": "[encoded data removed]",
      "text/plain": [
       "<Figure size 1500x1000 with 12 Axes>"
      ]
     },
     "metadata": {},
     "output_type": "display_data"
    }
   ],
   "source": [
    "from sklearn.metrics import confusion_matrix\n",
    "import seaborn as sns\n",
    "import matplotlib.pyplot as plt\n",
    "import numpy as np\n",
    "\n",
    "target_names = ['toxic', 'severe_toxic', 'obscene', 'threat', 'insult', 'identity_hate']\n",
    "\n",
    "fig, axes = plt.subplots(2, 3, figsize=(15, 10))\n",
    "axes = axes.flatten()\n",
    "\n",
    "for i, label in enumerate(target_names):\n",
    "    cm = confusion_matrix(y_test[:, i], y_test_pred[:, i])\n",
    "    sns.heatmap(cm, annot=True, fmt='d', cmap='Blues', ax=axes[i])\n",
    "    axes[i].set_title(f'Confusion Matrix: {label}')\n",
    "    axes[i].set_xlabel('Predicted')\n",
    "    axes[i].set_ylabel('Actual')\n",
    "\n",
    "plt.tight_layout()\n",
    "plt.show()"
   ]
  },
  {
   "cell_type": "code",
   "execution_count": 40,
   "id": "c8e03221",
   "metadata": {},
   "outputs": [
    {
     "name": "stderr",
     "output_type": "stream",
     "text": [
      "WARNING:absl:You are saving your model as an HDF5 file via `model.save()` or `keras.saving.save_model(model)`. This file format is considered legacy. We recommend using instead the native Keras format, e.g. `model.save('my_model.keras')` or `keras.saving.save_model(model, 'my_model.keras')`. \n"
     ]
    }
   ],
   "source": [
    "import numpy as np\n",
    "import pickle\n",
    "from tensorflow.keras.models import load_model\n",
    "\n",
    "# Save model\n",
    "model.save(\"toxicity_model/lstm_model.keras\")\n",
    "\n",
    "# Save tokenizer\n",
    "with open(\"toxicity_model/tokenizer.pkl\", \"wb\") as f:\n",
    "    pickle.dump(tokenizer, f)\n",
    "\n",
    "# Save thresholds\n",
    "np.save(\"toxicity_model/best_thresholds.npy\", np.array(best_thresholds))"
   ]
  },
  {
   "cell_type": "markdown",
   "id": "2765b30f",
   "metadata": {},
   "source": [
    "# CNN"
   ]
  },
  {
   "cell_type": "markdown",
   "id": "21413397",
   "metadata": {},
   "source": [
    "### Tokenization"
   ]
  },
  {
   "cell_type": "code",
   "execution_count": 41,
   "id": "2b023017",
   "metadata": {},
   "outputs": [],
   "source": [
    "cnn_X_train_pad = X_train_pad.copy()\n",
    "cnn_X_val_pad = X_val_pad.copy()\n",
    "cnn_X_test_pad = X_test_pad.copy()\n",
    "\n",
    "cnn_y_train = y_train.copy()\n",
    "cnn_y_val = y_val.copy()\n",
    "cnn_y_test = y_test.copy()"
   ]
  },
  {
   "cell_type": "markdown",
   "id": "836293e2",
   "metadata": {},
   "source": [
    "### Computing the class weights"
   ]
  },
  {
   "cell_type": "code",
   "execution_count": 42,
   "id": "76c5f91a",
   "metadata": {},
   "outputs": [],
   "source": [
    "from sklearn.utils import class_weight\n",
    "import numpy as np\n",
    "\n",
    "label_cols = ['toxic', 'severe_toxic', 'obscene', 'threat', 'insult', 'identity_hate']\n",
    "cnn_class_weights = {}\n",
    "\n",
    "for col in label_cols:\n",
    "    weights = class_weight.compute_class_weight(\n",
    "        class_weight='balanced',\n",
    "        classes=np.unique(df[col]),\n",
    "        y=df[col]\n",
    "    )\n",
    "    cnn_class_weights[col] = dict(enumerate(weights))"
   ]
  },
  {
   "cell_type": "code",
   "execution_count": 43,
   "id": "32aecd6a",
   "metadata": {},
   "outputs": [],
   "source": [
    "cnn_weight_matrix = np.array([[cnn_class_weights[label][i] for i in range(2)] for label in label_cols])\n",
    "cnn_weight_tensor = tf.constant(cnn_weight_matrix, dtype=tf.float32)"
   ]
  },
  {
   "cell_type": "code",
   "execution_count": 44,
   "id": "c8e9e2ec",
   "metadata": {},
   "outputs": [],
   "source": [
    "import tensorflow as tf\n",
    "from tensorflow.keras import backend as K\n",
    "\n",
    "def cnn_weighted_loss(y_true, y_pred):\n",
    "    y_true = tf.cast(y_true, tf.float32)\n",
    "    y_pred = tf.cast(y_pred, tf.float32)\n",
    "\n",
    "    base_loss = K.binary_crossentropy(y_true, y_pred)\n",
    "\n",
    "    w0 = cnn_weight_tensor[:, 0]\n",
    "    w1 = cnn_weight_tensor[:, 1]\n",
    "\n",
    "    weights = y_true * w1 + (1 - y_true) * w0\n",
    "    weighted_loss = base_loss * weights\n",
    "\n",
    "    return tf.reduce_mean(weighted_loss)"
   ]
  },
  {
   "cell_type": "markdown",
   "id": "4e35626c",
   "metadata": {},
   "source": [
    "### Model defining"
   ]
  },
  {
   "cell_type": "code",
   "execution_count": 45,
   "id": "6c75f8f6",
   "metadata": {},
   "outputs": [
    {
     "name": "stderr",
     "output_type": "stream",
     "text": [
      "c:\\Users\\krith\\AppData\\Local\\Programs\\Python\\Python312\\Lib\\site-packages\\keras\\src\\layers\\core\\embedding.py:97: UserWarning: Argument `input_length` is deprecated. Just remove it.\n",
      "  warnings.warn(\n"
     ]
    }
   ],
   "source": [
    "from keras.models import Sequential\n",
    "from keras.layers import Embedding, Conv1D, GlobalMaxPooling1D, Dense, Dropout\n",
    "from keras.regularizers import l2\n",
    "\n",
    "cnn_model = Sequential([\n",
    "    Embedding(input_dim=15000, output_dim=128, input_length=200),\n",
    "    Conv1D(filters=64, kernel_size=5, activation='relu'),\n",
    "    GlobalMaxPooling1D(),\n",
    "    Dropout(0.3),\n",
    "    Dense(64, activation='relu', kernel_regularizer=l2(0.001)),\n",
    "    Dropout(0.3),\n",
    "    Dense(6, activation='sigmoid')\n",
    "])"
   ]
  },
  {
   "cell_type": "markdown",
   "id": "360bbef2",
   "metadata": {},
   "source": [
    "### Compiling"
   ]
  },
  {
   "cell_type": "code",
   "execution_count": 46,
   "id": "80c080d7",
   "metadata": {},
   "outputs": [],
   "source": [
    "cnn_model.compile(optimizer='adam', loss=cnn_weighted_loss, metrics=['accuracy'])"
   ]
  },
  {
   "cell_type": "markdown",
   "id": "82b400ac",
   "metadata": {},
   "source": [
    "### Training"
   ]
  },
  {
   "cell_type": "code",
   "execution_count": 47,
   "id": "c24ca154",
   "metadata": {},
   "outputs": [
    {
     "name": "stdout",
     "output_type": "stream",
     "text": [
      "Epoch 1/50\n",
      "\u001b[1m3491/3491\u001b[0m \u001b[32m━━━━━━━━━━━━━━━━━━━━\u001b[0m\u001b[37m\u001b[0m \u001b[1m56s\u001b[0m 16ms/step - accuracy: 0.7234 - loss: 0.3088 - val_accuracy: 0.9946 - val_loss: 0.2047\n",
      "Epoch 2/50\n",
      "\u001b[1m3491/3491\u001b[0m \u001b[32m━━━━━━━━━━━━━━━━━━━━\u001b[0m\u001b[37m\u001b[0m \u001b[1m51s\u001b[0m 15ms/step - accuracy: 0.9801 - loss: 0.1925 - val_accuracy: 0.9859 - val_loss: 0.1901\n",
      "Epoch 3/50\n",
      "\u001b[1m3491/3491\u001b[0m \u001b[32m━━━━━━━━━━━━━━━━━━━━\u001b[0m\u001b[37m\u001b[0m \u001b[1m57s\u001b[0m 16ms/step - accuracy: 0.9810 - loss: 0.1564 - val_accuracy: 0.9753 - val_loss: 0.1848\n",
      "Epoch 4/50\n",
      "\u001b[1m3491/3491\u001b[0m \u001b[32m━━━━━━━━━━━━━━━━━━━━\u001b[0m\u001b[37m\u001b[0m \u001b[1m111s\u001b[0m 32ms/step - accuracy: 0.9878 - loss: 0.1346 - val_accuracy: 0.9860 - val_loss: 0.1798\n",
      "Epoch 5/50\n",
      "\u001b[1m3491/3491\u001b[0m \u001b[32m━━━━━━━━━━━━━━━━━━━━\u001b[0m\u001b[37m\u001b[0m \u001b[1m48s\u001b[0m 14ms/step - accuracy: 0.9879 - loss: 0.1241 - val_accuracy: 0.9898 - val_loss: 0.2474\n",
      "Epoch 6/50\n",
      "\u001b[1m3491/3491\u001b[0m \u001b[32m━━━━━━━━━━━━━━━━━━━━\u001b[0m\u001b[37m\u001b[0m \u001b[1m49s\u001b[0m 14ms/step - accuracy: 0.9862 - loss: 0.1171 - val_accuracy: 0.9890 - val_loss: 0.2174\n",
      "Epoch 7/50\n",
      "\u001b[1m3491/3491\u001b[0m \u001b[32m━━━━━━━━━━━━━━━━━━━━\u001b[0m\u001b[37m\u001b[0m \u001b[1m50s\u001b[0m 14ms/step - accuracy: 0.9865 - loss: 0.1125 - val_accuracy: 0.9910 - val_loss: 0.2916\n"
     ]
    }
   ],
   "source": [
    "from tensorflow.keras.callbacks import EarlyStopping\n",
    "\n",
    "cnn_early_stop = EarlyStopping(monitor='val_loss', patience=3, restore_best_weights=True)\n",
    "\n",
    "cnn_history = cnn_model.fit(\n",
    "    cnn_X_train_pad, cnn_y_train,\n",
    "    validation_data=(cnn_X_val_pad, cnn_y_val),\n",
    "    epochs=50,\n",
    "    batch_size=32,\n",
    "    callbacks=[cnn_early_stop]\n",
    ")"
   ]
  },
  {
   "cell_type": "markdown",
   "id": "d2ca7ae8",
   "metadata": {},
   "source": [
    "### Predict and apply default thresholds"
   ]
  },
  {
   "cell_type": "code",
   "execution_count": 48,
   "id": "69a8b8e9",
   "metadata": {},
   "outputs": [
    {
     "name": "stdout",
     "output_type": "stream",
     "text": [
      "\u001b[1m748/748\u001b[0m \u001b[32m━━━━━━━━━━━━━━━━━━━━\u001b[0m\u001b[37m\u001b[0m \u001b[1m2s\u001b[0m 3ms/step\n"
     ]
    }
   ],
   "source": [
    "cnn_y_val_probs = cnn_model.predict(cnn_X_val_pad)\n",
    "\n",
    "cnn_y_val_pred_default = (cnn_y_val_probs > 0.5).astype(int)"
   ]
  },
  {
   "cell_type": "markdown",
   "id": "8d759c61",
   "metadata": {},
   "source": [
    "### Evaluate the model with default thresholds"
   ]
  },
  {
   "cell_type": "code",
   "execution_count": 49,
   "id": "b2a20f47",
   "metadata": {},
   "outputs": [
    {
     "name": "stdout",
     "output_type": "stream",
     "text": [
      "Exact Match Accuracy: 0.8343081550802139\n"
     ]
    }
   ],
   "source": [
    "from sklearn.metrics import accuracy_score\n",
    "\n",
    "cnn_exact_match_acc = accuracy_score(cnn_y_val, cnn_y_val_pred_default)\n",
    "print(\"Exact Match Accuracy:\", cnn_exact_match_acc)"
   ]
  },
  {
   "cell_type": "markdown",
   "id": "a1e7002e",
   "metadata": {},
   "source": [
    "### Applying the tuned thresholds"
   ]
  },
  {
   "cell_type": "code",
   "execution_count": 50,
   "id": "72f6e4f8",
   "metadata": {},
   "outputs": [
    {
     "name": "stdout",
     "output_type": "stream",
     "text": [
      "\u001b[1m748/748\u001b[0m \u001b[32m━━━━━━━━━━━━━━━━━━━━\u001b[0m\u001b[37m\u001b[0m \u001b[1m2s\u001b[0m 3ms/step\n"
     ]
    },
    {
     "data": {
      "text/plain": [
       "[np.float64(0.8),\n",
       " np.float64(0.9),\n",
       " np.float64(0.9),\n",
       " np.float64(0.9),\n",
       " np.float64(0.9),\n",
       " np.float64(0.9)]"
      ]
     },
     "execution_count": 50,
     "metadata": {},
     "output_type": "execute_result"
    }
   ],
   "source": [
    "cnn_y_val_probs = cnn_model.predict(cnn_X_val_pad)\n",
    "\n",
    "cnn_best_thresholds = []\n",
    "for i in range(cnn_y_val.shape[1]):\n",
    "    thresholds = np.linspace(0.1, 0.9, 9)\n",
    "    f1s = [f1_score(cnn_y_val[:, i], (cnn_y_val_probs[:, i] > t).astype(int), zero_division=0) for t in thresholds]\n",
    "    cnn_best_thresholds.append(thresholds[np.argmax(f1s)])\n",
    "cnn_best_thresholds"
   ]
  },
  {
   "cell_type": "code",
   "execution_count": 51,
   "id": "61ebd48d",
   "metadata": {},
   "outputs": [],
   "source": [
    "cnn_y_val_pred = np.zeros_like(cnn_y_val_probs)\n",
    "for i, t in enumerate(cnn_best_thresholds):\n",
    "    cnn_y_val_pred[:, i] = (cnn_y_val_probs[:, i] > t).astype(int)"
   ]
  },
  {
   "cell_type": "markdown",
   "id": "4d327087",
   "metadata": {},
   "source": [
    "### Classification report"
   ]
  },
  {
   "cell_type": "code",
   "execution_count": 52,
   "id": "f15ec27b",
   "metadata": {},
   "outputs": [
    {
     "name": "stdout",
     "output_type": "stream",
     "text": [
      "               precision    recall  f1-score   support\n",
      "\n",
      "        toxic       0.73      0.80      0.76      2294\n",
      " severe_toxic       0.24      0.85      0.38       239\n",
      "      obscene       0.76      0.81      0.78      1267\n",
      "       threat       0.14      0.93      0.25        71\n",
      "       insult       0.64      0.78      0.70      1181\n",
      "identity_hate       0.18      0.69      0.29       206\n",
      "\n",
      "    micro avg       0.57      0.80      0.66      5258\n",
      "    macro avg       0.45      0.81      0.53      5258\n",
      " weighted avg       0.66      0.80      0.71      5258\n",
      "  samples avg       0.06      0.07      0.06      5258\n",
      "\n"
     ]
    }
   ],
   "source": [
    "from sklearn.metrics import classification_report\n",
    "\n",
    "target_names = ['toxic', 'severe_toxic', 'obscene', 'threat', 'insult', 'identity_hate']\n",
    "\n",
    "print(classification_report(cnn_y_val, cnn_y_val_pred, target_names=target_names, zero_division=0))"
   ]
  },
  {
   "cell_type": "markdown",
   "id": "65b9cd77",
   "metadata": {},
   "source": [
    "### Prediction on test dataset"
   ]
  },
  {
   "cell_type": "code",
   "execution_count": 53,
   "id": "1d241a96",
   "metadata": {},
   "outputs": [
    {
     "name": "stdout",
     "output_type": "stream",
     "text": [
      "\u001b[1m748/748\u001b[0m \u001b[32m━━━━━━━━━━━━━━━━━━━━\u001b[0m\u001b[37m\u001b[0m \u001b[1m2s\u001b[0m 3ms/step\n"
     ]
    }
   ],
   "source": [
    "cnn_y_test_probs = cnn_model.predict(cnn_X_test_pad)\n",
    "cnn_y_test_pred = np.zeros_like(cnn_y_test_probs)\n",
    "\n",
    "for i, t in enumerate(cnn_best_thresholds):\n",
    "    cnn_y_test_pred[:, i] = (cnn_y_test_probs[:, i] > t).astype(int)"
   ]
  },
  {
   "cell_type": "markdown",
   "id": "a5023735",
   "metadata": {},
   "source": [
    "### Confusion matrix"
   ]
  },
  {
   "cell_type": "code",
   "execution_count": 54,
   "id": "68fb0ad7",
   "metadata": {},
   "outputs": [
    {
     "data": {
      "image/png": "[encoded data removed]",
      "text/plain": [
       "<Figure size 1500x1000 with 12 Axes>"
      ]
     },
     "metadata": {},
     "output_type": "display_data"
    }
   ],
   "source": [
    "fig, axes = plt.subplots(2, 3, figsize=(15, 10))\n",
    "axes = axes.flatten()\n",
    "\n",
    "for i, label in enumerate(target_names):\n",
    "    cm = confusion_matrix(cnn_y_test[:, i], cnn_y_test_pred[:, i])\n",
    "    sns.heatmap(cm, annot=True, fmt='d', cmap='Blues', ax=axes[i])\n",
    "    axes[i].set_title(f'CNN Confusion Matrix: {label}')\n",
    "    axes[i].set_xlabel('Predicted')\n",
    "    axes[i].set_ylabel('Actual')\n",
    "\n",
    "plt.tight_layout()\n",
    "plt.show()"
   ]
  }
 ],
 "metadata": {
  "kernelspec": {
   "display_name": "Python 3",
   "language": "python",
   "name": "python3"
  },
  "language_info": {
   "codemirror_mode": {
    "name": "ipython",
    "version": 3
   },
   "file_extension": ".py",
   "mimetype": "text/x-python",
   "name": "python",
   "nbconvert_exporter": "python",
   "pygments_lexer": "ipython3",
   "version": "3.12.8"
  }
 },
 "nbformat": 4,
 "nbformat_minor": 5
}
